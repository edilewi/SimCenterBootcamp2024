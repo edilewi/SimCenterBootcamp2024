{
 "cells": [
  {
   "cell_type": "markdown",
   "metadata": {},
   "source": [
    "# A Python Quick Start Tutorial\n",
    "# Lesson \\#1: Basic data types and functions\n",
    "## by Peter Mackenzie-Helnwein\n",
    "University of Washington, Seattle, WA\n",
    "\n",
    "pmackenz@uw.edu          \n",
    "https://www.ce.washington.edu/facultyfinder/peter-mackenzie-helnwein"
   ]
  },
  {
   "cell_type": "markdown",
   "metadata": {},
   "source": [
    "## Resources\n",
    "\n",
    "   1. Python Docs: https://docs.python.org/3/\n",
    "   \n",
    "   1. Python Tutorial (comprehensive): https://docs.python.org/3/tutorial/index.html\n",
    "   \n",
    "   1. Python Library Reference (the nitty-gritty details): https://docs.python.org/3/library/index.html\n",
    "   \n",
    "   1. Everything else: http://google.com\n",
    "   "
   ]
  },
  {
   "cell_type": "markdown",
   "metadata": {},
   "source": [
    "## Discussing questions from the self-study assignment\n",
    "\n",
    "This section is to discuss your questions\n"
   ]
  },
  {
   "cell_type": "markdown",
   "metadata": {},
   "source": [
    "### Exercise 1\n",
    "\n",
    "**Theory**:\n",
    "Stress transformation\n",
    "\n",
    "$$\n",
    "\\begin{aligned}\n",
    "\\sigma_{x}' &= \\sigma_{x} \\cos^2\\theta + \\sigma_{y} \\sin^2\\theta + 2\\tau_{xy} \\sin\\theta \\cos\\theta \\\\\n",
    "\\sigma_{y}' &= \\sigma_{x} \\sin^2\\theta + \\sigma_{y} \\cos^2\\theta - 2\\tau_{xy} \\sin\\theta \\cos\\theta \\\\\n",
    "\\tau_{xy}'  &= (\\sigma_{y} - \\sigma_{x}) \\sin\\theta \\cos\\theta + \\tau_{xy} (\\cos^2\\theta - \\sin^2\\theta) \\\\\n",
    "\\end{aligned}\n",
    "$$\n",
    "\n",
    "**Given**:\n",
    "Stress state:\n",
    "\n",
    "$$\n",
    "\\sigma_{x} = 12~ksi~,\n",
    "~~~\n",
    "\\sigma_{y} = -5.5~ksi~,\n",
    "~~~\n",
    "\\tau_{xy} = 3.5~ksi \n",
    "$$\n",
    "\n",
    "**Find**:\n",
    "Components of stress in a rotated coordinate system for $\\theta=25^\\circ$."
   ]
  },
  {
   "cell_type": "markdown",
   "metadata": {},
   "source": [
    "Always start writing code without writing the code. First write out what you are doing. Think first. Never start writing code then start thinking. Always think first."
   ]
  },
  {
   "cell_type": "code",
   "execution_count": 6,
   "metadata": {},
   "outputs": [],
   "source": [
    "# theta needs to be in radians\n",
    "# sin and cos are not part of phython\n",
    "\n",
    "from math import sin, cos, pi, radians"
   ]
  },
  {
   "cell_type": "markdown",
   "metadata": {},
   "source": [
    "we need the degrees to be in radians because sin and cosine utilize radians"
   ]
  },
  {
   "cell_type": "code",
   "execution_count": 7,
   "metadata": {},
   "outputs": [],
   "source": [
    "sigmax = 12.\n",
    "sigmay = -5.5\n",
    "tau    =  3.5\n",
    "theta = radians( 25. )"
   ]
  },
  {
   "cell_type": "code",
   "execution_count": 8,
   "metadata": {},
   "outputs": [
    {
     "name": "stdout",
     "output_type": "stream",
     "text": [
      "12.0 -5.5 3.5 0.4363323129985824\n"
     ]
    }
   ],
   "source": [
    "print(sigmax, sigmay, tau, theta)"
   ]
  },
  {
   "cell_type": "code",
   "execution_count": 31,
   "metadata": {},
   "outputs": [],
   "source": [
    "sigmaxp = (sigmax*pow(cos(theta),2)) + (sigmay*pow(sin(theta),2)) + (2*tau*sin(theta)*cos(theta))\n",
    "sigmayp = (sigmax*pow(sin(theta),2)) + (sigmay*pow(cos(theta),2)) - (2*tau*sin(theta)*cos(theta))\n",
    "taup    = ((sigmay-sigmax)*sin(theta)*cos(theta)) + (tau*(pow(cos(theta),2) - pow(sin(theta),2)))"
   ]
  },
  {
   "cell_type": "markdown",
   "metadata": {},
   "source": [
    "Can also do power by *'*. i.e. pow(x,y) = x*'*y. (there is no apostrophe, just getting unfunky formatting."
   ]
  },
  {
   "cell_type": "code",
   "execution_count": 32,
   "metadata": {},
   "outputs": [
    {
     "name": "stdout",
     "output_type": "stream",
     "text": [
      "sigx'=   11.555547, sigy'=-5.055547, tau'=-4.453132\n"
     ]
    }
   ],
   "source": [
    "print(f\"sigx'={sigmaxp:12.6f}, sigy'={sigmayp:.6f}, tau'={taup:.6f}\")"
   ]
  },
  {
   "cell_type": "markdown",
   "metadata": {},
   "source": [
    "We have print(f\"string to be formatted\") to help with having formatted strings. Can substitute values in strings with {}. .# where # is number of decimals. You can sub in variables inside of the {} if you put f at the beginnning (show it's a formatted string). \n",
    "f - floating\n",
    "e = engineering format \n",
    "\n",
    "Spend a lot of time on thinking how to verify what you are doing is actually meaningful and correct."
   ]
  },
  {
   "cell_type": "markdown",
   "metadata": {},
   "source": [
    "### Exercise 2\n",
    "\n",
    "Convert the calculation from exercise 1 to a function"
   ]
  },
  {
   "cell_type": "code",
   "execution_count": 33,
   "metadata": {},
   "outputs": [],
   "source": [
    "def stressTransform(sigx, sigy, tauxy, theta):\n",
    "    th = radians(theta)\n",
    "    \n",
    "    sx = (sigx*pow(cos(th),2)) + (sigy*pow(sin(th),2)) + (2*tauxy*sin(th)*cos(th))\n",
    "    sy = (sigx*pow(sin(th),2)) + (sigy*pow(cos(th),2)) - (2*tauxy*sin(th)*cos(th))\n",
    "    txy    = ((sigy-sigx)*sin(th)*cos(th)) + (tauxy*(pow(cos(th),2) - pow(sin(th),2)))\n",
    "    \n",
    "    return (sx,sy,txy)"
   ]
  },
  {
   "cell_type": "markdown",
   "metadata": {},
   "source": [
    "To see what's in a funtion you have to have it such that everything with the same indentation is in the same level. So everything at the indentation is in the function.\n",
    "\n",
    "It is important to look at the difference from local variables and global variables. Global variables are what exists in your actual code. Local variables only exist in the function.\n",
    "\n",
    "Return in a list type of a tuple."
   ]
  },
  {
   "cell_type": "markdown",
   "metadata": {},
   "source": [
    "Test your function for \n",
    "\n",
    "* $\\theta=0$ (what should the result look like?)\n",
    "* $\\theta=25^\\circ$\n",
    "* $\\theta=180^\\circ$"
   ]
  },
  {
   "cell_type": "code",
   "execution_count": 34,
   "metadata": {},
   "outputs": [
    {
     "name": "stdout",
     "output_type": "stream",
     "text": [
      "sigx'=15.000000, sigy'=-15.500000, tau'=3.500000\n"
     ]
    }
   ],
   "source": [
    "s1,s2,s3 = stressTransform(15., -15.5, 3.5, 0.0)\n",
    "\n",
    "print(f\"sigx'={s1:.6f}, sigy'={s2:.6f}, tau'={s3:.6f}\")"
   ]
  },
  {
   "cell_type": "code",
   "execution_count": 35,
   "metadata": {},
   "outputs": [
    {
     "data": {
      "text/plain": [
       "-5.5"
      ]
     },
     "execution_count": 35,
     "metadata": {},
     "output_type": "execute_result"
    }
   ],
   "source": [
    "sigmay"
   ]
  },
  {
   "cell_type": "code",
   "execution_count": 36,
   "metadata": {},
   "outputs": [
    {
     "name": "stdout",
     "output_type": "stream",
     "text": [
      "sigx'=12.000000, sigy'=-5.500000, tau'=3.500000\n"
     ]
    }
   ],
   "source": [
    "stress = stressTransform(12., -5.5, 3.5, 0.0)\n",
    "\n",
    "print(f\"sigx'={stress[0]:.6f}, sigy'={stress[1]:.6f}, tau'={stress[2]:.6f}\")"
   ]
  },
  {
   "cell_type": "code",
   "execution_count": 37,
   "metadata": {},
   "outputs": [
    {
     "data": {
      "text/plain": [
       "(12.0, -5.5, 3.5)"
      ]
     },
     "execution_count": 37,
     "metadata": {},
     "output_type": "execute_result"
    }
   ],
   "source": [
    "stress"
   ]
  },
  {
   "cell_type": "code",
   "execution_count": 38,
   "metadata": {},
   "outputs": [
    {
     "data": {
      "text/plain": [
       "tuple"
      ]
     },
     "execution_count": 38,
     "metadata": {},
     "output_type": "execute_result"
    }
   ],
   "source": [
    "type(stress)"
   ]
  },
  {
   "cell_type": "markdown",
   "metadata": {},
   "source": [
    "stress is saved as a tuple "
   ]
  },
  {
   "cell_type": "code",
   "execution_count": 39,
   "metadata": {},
   "outputs": [
    {
     "name": "stdout",
     "output_type": "stream",
     "text": [
      "sigx'=12.000000, sigy'=-5.500000, tau'=3.500000\n"
     ]
    }
   ],
   "source": [
    "stress = stressTransform(12., -5.5, 3.5, 0.0)\n",
    "\n",
    "print(\"sigx'={:.6f}, sigy'={:.6f}, tau'={:.6f}\".format(*stress))"
   ]
  },
  {
   "cell_type": "markdown",
   "metadata": {},
   "source": [
    "We want it such that stress is an ordered variable and pull each one. Also, do not print in functions, unless it is a report.\n",
    "\n",
    "We can actually save computational energy in functions by putting our repetitive costly functions and define them early, then post those in over and over. "
   ]
  },
  {
   "cell_type": "code",
   "execution_count": 40,
   "metadata": {},
   "outputs": [],
   "source": [
    "def stressTransform2(sigx, sigy, tauxy, theta):\n",
    "    th = radians(theta)\n",
    "    \n",
    "    sn = sin(th)\n",
    "    cs = cos(th)\n",
    "    \n",
    "    sx = (sigx*pow(cs,2)) + (sigy*pow(sn,2)) + (2*tauxy*sn*cs)\n",
    "    sy = (sigx*pow(sn,2)) + (sigy*pow(cs,2)) - (2*tauxy*sn*cs)\n",
    "    txy    = ((sigy-sigx)*sn*cs) + (tauxy*(pow(cs,2) - pow(sn,2)))\n",
    "    \n",
    "    return (sx,sy,txy)"
   ]
  },
  {
   "cell_type": "code",
   "execution_count": 41,
   "metadata": {},
   "outputs": [
    {
     "name": "stdout",
     "output_type": "stream",
     "text": [
      "sigx'=12.000000, sigy'=-5.500000, tau'=3.500000\n"
     ]
    }
   ],
   "source": [
    "stress = stressTransform2(12., -5.5, 3.5, 0.0)\n",
    "\n",
    "print(\"sigx'={:.6f}, sigy'={:.6f}, tau'={:.6f}\".format(*stress))"
   ]
  },
  {
   "cell_type": "markdown",
   "metadata": {},
   "source": [
    "### Exercise 3\n",
    "\n",
    "Let's use this function to study stress transformation.  In order to do so,\n",
    "\n",
    "1. Create a list of 81 evenly spaced $\\theta$-values from $0^\\circ$ to $180^\\circ$.\n",
    "2. Compute the transformed stress for each of these values and collect the results in three lists: \n",
    "\n",
    "       sigmax_values = ...\n",
    "       sigmay_values = ...\n",
    "       tauxy_values = ...\n",
    "\n",
    "3. print a nice table with 4 columns: $\\theta$, $\\sigma_x'$, $\\sigma_y'$, $\\tau_{xy}'$\n",
    "\n",
    "We start with the clumsy way, will eventually move on to numpy. Add . to float values to make sure it is cast as a float."
   ]
  },
  {
   "cell_type": "code",
   "execution_count": 55,
   "metadata": {
    "scrolled": true
   },
   "outputs": [
    {
     "name": "stdout",
     "output_type": "stream",
     "text": [
      "[0.0, 2.25, 4.5, 6.75, 9.0, 11.25, 13.5, 15.75, 18.0, 20.25, 22.5, 24.75, 27.0, 29.25, 31.5, 33.75, 36.0, 38.25, 40.5, 42.75, 45.0, 47.25, 49.5, 51.75, 54.0, 56.25, 58.5, 60.75, 63.0, 65.25, 67.5, 69.75, 72.0, 74.25, 76.5, 78.75, 81.0, 83.25, 85.5, 87.75, 90.0, 92.25, 94.5, 96.75, 99.0, 101.25, 103.5, 105.75, 108.0, 110.25, 112.5, 114.75, 117.0, 119.25, 121.5, 123.75, 126.0, 128.25, 130.5, 132.75, 135.0, 137.25, 139.5, 141.75, 144.0, 146.25, 148.5, 150.75, 153.0, 155.25, 157.5, 159.75, 162.0, 164.25, 166.5, 168.75, 171.0, 173.25, 175.5, 177.75, 180.0]\n",
      "81\n",
      "[0.0, 2.25, 4.5, 6.75, 9.0, 11.25, 13.5, 15.75, 18.0, 20.25, 22.5, 24.75, 27.0, 29.25, 31.5, 33.75, 36.0, 38.25, 40.5, 42.75, 45.0, 47.25, 49.5, 51.75, 54.0, 56.25, 58.5, 60.75, 63.0, 65.25, 67.5, 69.75, 72.0, 74.25, 76.5, 78.75, 81.0, 83.25, 85.5, 87.75, 90.0, 92.25, 94.5, 96.75, 99.0, 101.25, 103.5, 105.75, 108.0, 110.25, 112.5, 114.75, 117.0, 119.25, 121.5, 123.75, 126.0, 128.25, 130.5, 132.75, 135.0, 137.25, 139.5, 141.75, 144.0, 146.25, 148.5, 150.75, 153.0, 155.25, 157.5, 159.75, 162.0, 164.25, 166.5, 168.75, 171.0, 173.25, 175.5, 177.75, 180.0]\n",
      "81\n",
      "0.0\n",
      "2.25\n",
      "4.5\n",
      "6.75\n",
      "9.0\n",
      "11.25\n",
      "13.5\n",
      "15.75\n",
      "18.0\n",
      "20.25\n",
      "22.5\n",
      "24.75\n",
      "27.0\n",
      "29.25\n",
      "31.5\n",
      "33.75\n",
      "36.0\n",
      "38.25\n",
      "40.5\n",
      "42.75\n",
      "45.0\n",
      "47.25\n",
      "49.5\n",
      "51.75\n",
      "54.0\n",
      "56.25\n",
      "58.5\n",
      "60.75\n",
      "63.0\n",
      "65.25\n",
      "67.5\n",
      "69.75\n",
      "72.0\n",
      "74.25\n",
      "76.5\n",
      "78.75\n",
      "81.0\n",
      "83.25\n",
      "85.5\n",
      "87.75\n",
      "90.0\n",
      "92.25\n",
      "94.5\n",
      "96.75\n",
      "99.0\n",
      "101.25\n",
      "103.5\n",
      "105.75\n",
      "108.0\n",
      "110.25\n",
      "112.5\n",
      "114.75\n",
      "117.0\n",
      "119.25\n",
      "121.5\n",
      "123.75\n",
      "126.0\n",
      "128.25\n",
      "130.5\n",
      "132.75\n",
      "135.0\n",
      "137.25\n",
      "139.5\n",
      "141.75\n",
      "144.0\n",
      "146.25\n",
      "148.5\n",
      "150.75\n",
      "153.0\n",
      "155.25\n",
      "157.5\n",
      "159.75\n",
      "162.0\n",
      "164.25\n",
      "166.5\n",
      "168.75\n",
      "171.0\n",
      "173.25\n",
      "175.5\n",
      "177.75\n",
      "180.0\n"
     ]
    }
   ],
   "source": [
    "# YOUR CODE for 1.\n",
    "\n",
    "#initialize initial_th\n",
    "initial_th = 0.\n",
    "\n",
    "#initialize delta_th\n",
    "delta_th = 180./80.\n",
    "\n",
    "#Way 1\n",
    "#initialize an empty list\n",
    "th_values_0 = []\n",
    "\n",
    "#loop 80 times and add an element to the list: theta_last + delta_th\n",
    "for i in range(81):\n",
    "    if i == 0:\n",
    "        new_theta = initial_th\n",
    "    else:\n",
    "        new_theta = th_values_0[-1] + delta_th #-1 is the last one\n",
    "    th_values_0.append(new_theta)\n",
    "\n",
    "print(th_values_0)\n",
    "print(len(th_values_0))\n",
    "\n",
    "#or Way 2\n",
    "th_values = [initial_th]\n",
    "\n",
    "for i in range(80):\n",
    "    th_values.append(th_values[-1] + delta_th)\n",
    "\n",
    "print(th_values)\n",
    "print(len(th_values))\n",
    "\n",
    "#if wanted to, we could go in and print every single value.\n",
    "for th in th_values:\n",
    "    print(th)"
   ]
  },
  {
   "cell_type": "code",
   "execution_count": 54,
   "metadata": {
    "collapsed": true,
    "jupyter": {
     "outputs_hidden": true
    }
   },
   "outputs": [
    {
     "name": "stdout",
     "output_type": "stream",
     "text": [
      "[12.0, 12.247633505212326, 12.439793607848262, 12.575295576975337, 12.653303997894911, 12.673337922751573, 12.635273835736632, 12.539346414604127, 12.386147083804444, 12.176620368155914, 11.912058069535206, 11.594091302489213, 11.224680437871456, 10.806103016503876, 10.340939707380324, 9.83205839698404, 9.282596507813828, 8.69594165513104, 8.075710761185002, 7.425727755684592, 6.750000000000002, 6.052693580447306, 5.338107622980962, 4.610647787652695, 3.8747991062522473, 3.13509833059497, 2.3961059619382534, 1.6623781339747699, 0.9384385227531764, 0.22875045671100258, -0.46231060122937295, -1.1304840298446277, -1.7716503177571332, -2.381856461592485, -2.957340337559804, -3.494553896195944, -3.990185037270277, -4.441178029984001, -4.844752352566648, -5.198419835117412, -5.5, -5.747633505212326, -5.939793607848263, -6.075295576975339, -6.15330399789491, -6.173337922751573, -6.135273835736633, -6.039346414604127, -5.886147083804446, -5.676620368155914, -5.412058069535207, -5.094091302489214, -4.724680437871457, -4.306103016503874, -3.8409397073803233, -3.3320583969840376, -2.782596507813829, -2.1959416551310387, -1.5757107611850039, -0.925727755684588, -0.2500000000000018, 0.4473064195526977, 1.1618923770190377, 1.889352212347307, 2.62520089374775, 3.364901669405034, 4.103894038061746, 4.837621866025231, 5.561561477246821, 6.2712495432890005, 6.9623106012293725, 7.630484029844632, 8.271650317757132, 8.881856461592486, 9.457340337559803, 9.994553896195946, 10.490185037270274, 10.941178029984002, 11.344752352566646, 11.698419835117411, 12.0]\n",
      "[-5.5, -5.747633505212327, -5.939793607848264, -6.075295576975339, -6.15330399789491, -6.173337922751573, -6.1352738357366325, -6.039346414604127, -5.886147083804445, -5.676620368155914, -5.412058069535207, -5.094091302489215, -4.724680437871457, -4.306103016503876, -3.8409397073803233, -3.3320583969840394, -2.7825965078138277, -2.195941655131041, -1.5757107611850025, -0.925727755684592, -0.2499999999999991, 0.4473064195526959, 1.1618923770190377, 1.8893522123473043, 2.6252008937477527, 3.364901669405031, 4.103894038061746, 4.837621866025229, 5.561561477246822, 6.271249543288997, 6.9623106012293725, 7.630484029844629, 8.271650317757132, 8.881856461592484, 9.457340337559804, 9.994553896195944, 10.490185037270278, 10.941178029984, 11.344752352566646, 11.698419835117411, 12.0, 12.247633505212326, 12.439793607848262, 12.57529557697534, 12.65330399789491, 12.673337922751571, 12.635273835736633, 12.539346414604127, 12.386147083804447, 12.176620368155914, 11.912058069535206, 11.594091302489213, 11.224680437871456, 10.806103016503874, 10.340939707380324, 9.832058396984035, 9.282596507813828, 8.695941655131039, 8.075710761185002, 7.425727755684587, 6.750000000000002, 6.052693580447302, 5.338107622980964, 4.6106477876526935, 3.87479910625225, 3.135098330594967, 2.396105961938254, 1.662378133974768, 0.9384385227531769, 0.22875045671099947, -0.4623106012293725, -1.1304840298446304, -1.7716503177571323, -2.381856461592487, -2.9573403375598035, -3.4945538961959457, -3.990185037270276, -4.441178029984002, -4.844752352566646, -5.198419835117413, -5.499999999999999]\n",
      "[3.5, 2.8026935804473045, 2.088107622980962, 1.3606477876526952, 0.6247991062522478, -0.11490166940503155, -0.853894038061747, -1.5876218660252306, -2.3115614772468236, -3.021249543288998, -3.712310601229375, -4.380484029844629, -5.021650317757134, -5.631856461592485, -6.207340337559804, -6.744553896195944, -7.240185037270278, -7.691178029984002, -8.094752352566648, -8.448419835117411, -8.750000000000002, -8.997633505212328, -9.189793607848262, -9.32529557697534, -9.403303997894911, -9.423337922751575, -9.385273835736633, -9.289346414604127, -9.136147083804445, -8.926620368155913, -8.662058069535206, -8.344091302489216, -7.974680437871455, -7.556103016503876, -7.090939707380322, -6.58205839698404, -6.032596507813828, -5.445941655131041, -4.825710761185003, -4.175727755684592, -3.500000000000001, -2.8026935804473054, -2.0881076229809628, -1.3606477876526966, -0.6247991062522487, 0.11490166940503066, 0.8538940380617452, 1.5876218660252288, 2.3115614772468227, 3.021249543288997, 3.7123106012293734, 4.380484029844631, 5.021650317757134, 5.631856461592488, 6.2073403375598035, 6.744553896195946, 7.240185037270276, 7.691178029984003, 8.094752352566644, 8.448419835117415, 8.75, 8.997633505212326, 9.189793607848264, 9.32529557697534, 9.40330399789491, 9.423337922751575, 9.385273835736633, 9.289346414604129, 9.136147083804445, 8.926620368155913, 8.662058069535208, 8.344091302489215, 7.974680437871456, 7.556103016503874, 7.090939707380324, 6.582058396984037, 6.032596507813828, 5.445941655131039, 4.825710761185004, 4.175727755684589, 3.500000000000002]\n"
     ]
    }
   ],
   "source": [
    "# YOUR CODE for 2.\n",
    "sigmax_values = []\n",
    "sigmay_values = []\n",
    "tauxy_values  = []\n",
    "\n",
    "#do list with stress values for each theta\n",
    "for th in th_values:\n",
    "    s1,s2,s3 = stressTransform(12., -5.5, 3.5, th)\n",
    "\n",
    "    sigmax_values.append(s1)\n",
    "    sigmay_values.append(s2)\n",
    "    tauxy_values.append(s3)\n",
    "\n",
    "print(sigmax_values)\n",
    "print(sigmay_values)\n",
    "print(tauxy_values)"
   ]
  },
  {
   "cell_type": "code",
   "execution_count": 60,
   "metadata": {
    "scrolled": true
   },
   "outputs": [
    {
     "name": "stdout",
     "output_type": "stream",
     "text": [
      "  0.00 |  12.0000 |  -5.5000 |   3.5000\n",
      "  2.25 |  12.2476 |  -5.7476 |   2.8027\n",
      "  4.50 |  12.4398 |  -5.9398 |   2.0881\n",
      "  6.75 |  12.5753 |  -6.0753 |   1.3606\n",
      "  9.00 |  12.6533 |  -6.1533 |   0.6248\n",
      " 11.25 |  12.6733 |  -6.1733 |  -0.1149\n",
      " 13.50 |  12.6353 |  -6.1353 |  -0.8539\n",
      " 15.75 |  12.5393 |  -6.0393 |  -1.5876\n",
      " 18.00 |  12.3861 |  -5.8861 |  -2.3116\n",
      " 20.25 |  12.1766 |  -5.6766 |  -3.0212\n",
      " 22.50 |  11.9121 |  -5.4121 |  -3.7123\n",
      " 24.75 |  11.5941 |  -5.0941 |  -4.3805\n",
      " 27.00 |  11.2247 |  -4.7247 |  -5.0217\n",
      " 29.25 |  10.8061 |  -4.3061 |  -5.6319\n",
      " 31.50 |  10.3409 |  -3.8409 |  -6.2073\n",
      " 33.75 |   9.8321 |  -3.3321 |  -6.7446\n",
      " 36.00 |   9.2826 |  -2.7826 |  -7.2402\n",
      " 38.25 |   8.6959 |  -2.1959 |  -7.6912\n",
      " 40.50 |   8.0757 |  -1.5757 |  -8.0948\n",
      " 42.75 |   7.4257 |  -0.9257 |  -8.4484\n",
      " 45.00 |   6.7500 |  -0.2500 |  -8.7500\n",
      " 47.25 |   6.0527 |   0.4473 |  -8.9976\n",
      " 49.50 |   5.3381 |   1.1619 |  -9.1898\n",
      " 51.75 |   4.6106 |   1.8894 |  -9.3253\n",
      " 54.00 |   3.8748 |   2.6252 |  -9.4033\n",
      " 56.25 |   3.1351 |   3.3649 |  -9.4233\n",
      " 58.50 |   2.3961 |   4.1039 |  -9.3853\n",
      " 60.75 |   1.6624 |   4.8376 |  -9.2893\n",
      " 63.00 |   0.9384 |   5.5616 |  -9.1361\n",
      " 65.25 |   0.2288 |   6.2712 |  -8.9266\n",
      " 67.50 |  -0.4623 |   6.9623 |  -8.6621\n",
      " 69.75 |  -1.1305 |   7.6305 |  -8.3441\n",
      " 72.00 |  -1.7717 |   8.2717 |  -7.9747\n",
      " 74.25 |  -2.3819 |   8.8819 |  -7.5561\n",
      " 76.50 |  -2.9573 |   9.4573 |  -7.0909\n",
      " 78.75 |  -3.4946 |   9.9946 |  -6.5821\n",
      " 81.00 |  -3.9902 |  10.4902 |  -6.0326\n",
      " 83.25 |  -4.4412 |  10.9412 |  -5.4459\n",
      " 85.50 |  -4.8448 |  11.3448 |  -4.8257\n",
      " 87.75 |  -5.1984 |  11.6984 |  -4.1757\n",
      " 90.00 |  -5.5000 |  12.0000 |  -3.5000\n",
      " 92.25 |  -5.7476 |  12.2476 |  -2.8027\n",
      " 94.50 |  -5.9398 |  12.4398 |  -2.0881\n",
      " 96.75 |  -6.0753 |  12.5753 |  -1.3606\n",
      " 99.00 |  -6.1533 |  12.6533 |  -0.6248\n",
      "101.25 |  -6.1733 |  12.6733 |   0.1149\n",
      "103.50 |  -6.1353 |  12.6353 |   0.8539\n",
      "105.75 |  -6.0393 |  12.5393 |   1.5876\n",
      "108.00 |  -5.8861 |  12.3861 |   2.3116\n",
      "110.25 |  -5.6766 |  12.1766 |   3.0212\n",
      "112.50 |  -5.4121 |  11.9121 |   3.7123\n",
      "114.75 |  -5.0941 |  11.5941 |   4.3805\n",
      "117.00 |  -4.7247 |  11.2247 |   5.0217\n",
      "119.25 |  -4.3061 |  10.8061 |   5.6319\n",
      "121.50 |  -3.8409 |  10.3409 |   6.2073\n",
      "123.75 |  -3.3321 |   9.8321 |   6.7446\n",
      "126.00 |  -2.7826 |   9.2826 |   7.2402\n",
      "128.25 |  -2.1959 |   8.6959 |   7.6912\n",
      "130.50 |  -1.5757 |   8.0757 |   8.0948\n",
      "132.75 |  -0.9257 |   7.4257 |   8.4484\n",
      "135.00 |  -0.2500 |   6.7500 |   8.7500\n",
      "137.25 |   0.4473 |   6.0527 |   8.9976\n",
      "139.50 |   1.1619 |   5.3381 |   9.1898\n",
      "141.75 |   1.8894 |   4.6106 |   9.3253\n",
      "144.00 |   2.6252 |   3.8748 |   9.4033\n",
      "146.25 |   3.3649 |   3.1351 |   9.4233\n",
      "148.50 |   4.1039 |   2.3961 |   9.3853\n",
      "150.75 |   4.8376 |   1.6624 |   9.2893\n",
      "153.00 |   5.5616 |   0.9384 |   9.1361\n",
      "155.25 |   6.2712 |   0.2288 |   8.9266\n",
      "157.50 |   6.9623 |  -0.4623 |   8.6621\n",
      "159.75 |   7.6305 |  -1.1305 |   8.3441\n",
      "162.00 |   8.2717 |  -1.7717 |   7.9747\n",
      "164.25 |   8.8819 |  -2.3819 |   7.5561\n",
      "166.50 |   9.4573 |  -2.9573 |   7.0909\n",
      "168.75 |   9.9946 |  -3.4946 |   6.5821\n",
      "171.00 |  10.4902 |  -3.9902 |   6.0326\n",
      "173.25 |  10.9412 |  -4.4412 |   5.4459\n",
      "175.50 |  11.3448 |  -4.8448 |   4.8257\n",
      "177.75 |  11.6984 |  -5.1984 |   4.1757\n",
      "180.00 |  12.0000 |  -5.5000 |   3.5000\n"
     ]
    }
   ],
   "source": [
    "# YOUR CODE for 3.\n",
    "# make a template string\n",
    "template = \"{:6.2f} | {:8.4f} | {:8.4f} | {:8.4f}\"\n",
    "\n",
    "#Clunkier way\n",
    "for i in range(len(th_values)):\n",
    "    print(template.format(th_values[i],sigmax_values[i],sigmay_values[i],tauxy_values[i]))"
   ]
  },
  {
   "cell_type": "code",
   "execution_count": 64,
   "metadata": {
    "scrolled": true
   },
   "outputs": [
    {
     "name": "stdout",
     "output_type": "stream",
     "text": [
      "  0.00,  12.0000,  -5.5000,   3.5000\n",
      "  2.25,  12.2476,  -5.7476,   2.8027\n",
      "  4.50,  12.4398,  -5.9398,   2.0881\n",
      "  6.75,  12.5753,  -6.0753,   1.3606\n",
      "  9.00,  12.6533,  -6.1533,   0.6248\n",
      " 11.25,  12.6733,  -6.1733,  -0.1149\n",
      " 13.50,  12.6353,  -6.1353,  -0.8539\n",
      " 15.75,  12.5393,  -6.0393,  -1.5876\n",
      " 18.00,  12.3861,  -5.8861,  -2.3116\n",
      " 20.25,  12.1766,  -5.6766,  -3.0212\n",
      " 22.50,  11.9121,  -5.4121,  -3.7123\n",
      " 24.75,  11.5941,  -5.0941,  -4.3805\n",
      " 27.00,  11.2247,  -4.7247,  -5.0217\n",
      " 29.25,  10.8061,  -4.3061,  -5.6319\n",
      " 31.50,  10.3409,  -3.8409,  -6.2073\n",
      " 33.75,   9.8321,  -3.3321,  -6.7446\n",
      " 36.00,   9.2826,  -2.7826,  -7.2402\n",
      " 38.25,   8.6959,  -2.1959,  -7.6912\n",
      " 40.50,   8.0757,  -1.5757,  -8.0948\n",
      " 42.75,   7.4257,  -0.9257,  -8.4484\n",
      " 45.00,   6.7500,  -0.2500,  -8.7500\n",
      " 47.25,   6.0527,   0.4473,  -8.9976\n",
      " 49.50,   5.3381,   1.1619,  -9.1898\n",
      " 51.75,   4.6106,   1.8894,  -9.3253\n",
      " 54.00,   3.8748,   2.6252,  -9.4033\n",
      " 56.25,   3.1351,   3.3649,  -9.4233\n",
      " 58.50,   2.3961,   4.1039,  -9.3853\n",
      " 60.75,   1.6624,   4.8376,  -9.2893\n",
      " 63.00,   0.9384,   5.5616,  -9.1361\n",
      " 65.25,   0.2288,   6.2712,  -8.9266\n",
      " 67.50,  -0.4623,   6.9623,  -8.6621\n",
      " 69.75,  -1.1305,   7.6305,  -8.3441\n",
      " 72.00,  -1.7717,   8.2717,  -7.9747\n",
      " 74.25,  -2.3819,   8.8819,  -7.5561\n",
      " 76.50,  -2.9573,   9.4573,  -7.0909\n",
      " 78.75,  -3.4946,   9.9946,  -6.5821\n",
      " 81.00,  -3.9902,  10.4902,  -6.0326\n",
      " 83.25,  -4.4412,  10.9412,  -5.4459\n",
      " 85.50,  -4.8448,  11.3448,  -4.8257\n",
      " 87.75,  -5.1984,  11.6984,  -4.1757\n",
      " 90.00,  -5.5000,  12.0000,  -3.5000\n",
      " 92.25,  -5.7476,  12.2476,  -2.8027\n",
      " 94.50,  -5.9398,  12.4398,  -2.0881\n",
      " 96.75,  -6.0753,  12.5753,  -1.3606\n",
      " 99.00,  -6.1533,  12.6533,  -0.6248\n",
      "101.25,  -6.1733,  12.6733,   0.1149\n",
      "103.50,  -6.1353,  12.6353,   0.8539\n",
      "105.75,  -6.0393,  12.5393,   1.5876\n",
      "108.00,  -5.8861,  12.3861,   2.3116\n",
      "110.25,  -5.6766,  12.1766,   3.0212\n",
      "112.50,  -5.4121,  11.9121,   3.7123\n",
      "114.75,  -5.0941,  11.5941,   4.3805\n",
      "117.00,  -4.7247,  11.2247,   5.0217\n",
      "119.25,  -4.3061,  10.8061,   5.6319\n",
      "121.50,  -3.8409,  10.3409,   6.2073\n",
      "123.75,  -3.3321,   9.8321,   6.7446\n",
      "126.00,  -2.7826,   9.2826,   7.2402\n",
      "128.25,  -2.1959,   8.6959,   7.6912\n",
      "130.50,  -1.5757,   8.0757,   8.0948\n",
      "132.75,  -0.9257,   7.4257,   8.4484\n",
      "135.00,  -0.2500,   6.7500,   8.7500\n",
      "137.25,   0.4473,   6.0527,   8.9976\n",
      "139.50,   1.1619,   5.3381,   9.1898\n",
      "141.75,   1.8894,   4.6106,   9.3253\n",
      "144.00,   2.6252,   3.8748,   9.4033\n",
      "146.25,   3.3649,   3.1351,   9.4233\n",
      "148.50,   4.1039,   2.3961,   9.3853\n",
      "150.75,   4.8376,   1.6624,   9.2893\n",
      "153.00,   5.5616,   0.9384,   9.1361\n",
      "155.25,   6.2712,   0.2288,   8.9266\n",
      "157.50,   6.9623,  -0.4623,   8.6621\n",
      "159.75,   7.6305,  -1.1305,   8.3441\n",
      "162.00,   8.2717,  -1.7717,   7.9747\n",
      "164.25,   8.8819,  -2.3819,   7.5561\n",
      "166.50,   9.4573,  -2.9573,   7.0909\n",
      "168.75,   9.9946,  -3.4946,   6.5821\n",
      "171.00,  10.4902,  -3.9902,   6.0326\n",
      "173.25,  10.9412,  -4.4412,   5.4459\n",
      "175.50,  11.3448,  -4.8448,   4.8257\n",
      "177.75,  11.6984,  -5.1984,   4.1757\n",
      "180.00,  12.0000,  -5.5000,   3.5000\n"
     ]
    }
   ],
   "source": [
    "# YOUR CODE for 3.\n",
    "# make a template string\n",
    "template = \"{:6.2f}, {:8.4f}, {:8.4f}, {:8.4f}\"\n",
    "\n",
    "#Smoother way, zip is good when all have same length. \n",
    "#If not all same length then it automatically stops when first ends\n",
    "for th,sx,sy,tau in zip(th_values,sigmax_values,sigmay_values,tauxy_values):\n",
    "    print(template.format(th,sx,sy,tau))"
   ]
  },
  {
   "cell_type": "markdown",
   "metadata": {},
   "source": [
    "### Exercise 4: Explore plotting in python\n",
    "\n",
    "For this, check out https://matplotlib.org/stable/gallery/lines_bars_and_markers/simple_plot.html\n",
    "\n",
    "I copied the demo code below so you can modify it to plot $(\\sigma_{x}'/\\tau_{xy}')$ and  $(\\sigma_{y}'/-\\tau_{xy}')$ curves from the data collected in `sigmax_values`, `sigmay_values`, `tauxy_values`"
   ]
  },
  {
   "cell_type": "code",
   "execution_count": 74,
   "metadata": {},
   "outputs": [
    {
     "data": {
      "image/png": "[encoded data removed]",
      "text/plain": [
       "<Figure size 640x480 with 1 Axes>"
      ]
     },
     "metadata": {},
     "output_type": "display_data"
    }
   ],
   "source": [
    "#import matplotlib\n",
    "import matplotlib.pyplot as plt\n",
    "\n",
    "fig, ax = plt.subplots()\n",
    "ax.plot(sigmax_values, tauxy_values)\n",
    "\n",
    "ax.set(xlabel='$\\\\sigma_x$ (ksi)', ylabel='$\\\\tau_{xy}$ (ksi)',\n",
    "       title='About as simple as it gets, folks')\n",
    "ax.grid()\n",
    "ax.set_aspect('equal')\n",
    "\n",
    "\n",
    "# I comment writing the figure to file ... makes this quicker\n",
    "# fig.savefig(\"test.png\")\n",
    "plt.show() #have to tell it to show"
   ]
  },
  {
   "cell_type": "markdown",
   "metadata": {},
   "source": [
    "**Remark**: This was just to wet your appetite! We will talk much more about `numpy` and `matplotlib` next week."
   ]
  },
  {
   "cell_type": "markdown",
   "metadata": {},
   "source": [
    "## Exercise 5: List versus dictionary\n",
    "\n",
    "You could express the stress state as\n",
    "\n",
    "1. three independent variables - the way we did it thus far\n",
    "\n",
    "2. a list of three values: `stress = `$[\\sigma_x, \\sigma_y, \\tau_{xy}]$ and replace\n",
    "\n",
    "        sigma_x --> stress[0]\n",
    "        sigma_y --> stress[2]\n",
    "        tau_xy  --> stress[3]\n",
    "        \n",
    "3. a dictionary \n",
    "\n",
    "        stress = {'sigx': 12.0, 'sigy': -5.5, 'tau':3.50}\n",
    "        \n",
    "   and replace\n",
    "\n",
    "        sigma_x --> stress['sigx']\n",
    "        sigma_y --> stress['sigy']\n",
    "        tau_xy  --> stress['tau']\n",
    "\n",
    "**Discuss**:\n",
    "\n",
    "1. Pros and cons for coding the equations\n",
    "2. Pros and cons for coding the function(s)\n",
    "3. How woud code and function change when switching from 2D to 3D (6 components instead of 3 components)\n",
    "\n",
    "Feel free to implement an alternative form of stressTrannsform() that looks like this:"
   ]
  },
  {
   "cell_type": "code",
   "execution_count": null,
   "metadata": {},
   "outputs": [],
   "source": [
    "def stressTransform(stress, theta):\n",
    "    # YOUR CODE\n",
    "    # stress2 is a list or dictionary, just as stress is\n",
    "    \n",
    "    return stress2"
   ]
  },
  {
   "cell_type": "code",
   "execution_count": null,
   "metadata": {},
   "outputs": [],
   "source": []
  },
  {
   "cell_type": "markdown",
   "metadata": {},
   "source": [
    "## Homework questions\n",
    "\n",
    "We can all learn from your questions!"
   ]
  },
  {
   "cell_type": "code",
   "execution_count": null,
   "metadata": {},
   "outputs": [],
   "source": []
  }
 ],
 "metadata": {
  "kernelspec": {
   "display_name": "Python 3 (ipykernel)",
   "language": "python",
   "name": "python3"
  },
  "language_info": {
   "codemirror_mode": {
    "name": "ipython",
    "version": 3
   },
   "file_extension": ".py",
   "mimetype": "text/x-python",
   "name": "python",
   "nbconvert_exporter": "python",
   "pygments_lexer": "ipython3",
   "version": "3.12.4"
  }
 },
 "nbformat": 4,
 "nbformat_minor": 4
}
